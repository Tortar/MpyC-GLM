{
 "cells": [
  {
   "cell_type": "code",
   "execution_count": 1,
   "id": "19f062e1-a327-4cba-bf2a-4070585718ff",
   "metadata": {},
   "outputs": [],
   "source": [
    "import asyncio\n",
    "import time\n",
    "from mpyc.runtime import mpc\n",
    "from mpyc import asyncoro\n",
    "import mpyc\n",
    "import mpyc.gmpy\n",
    "import numpy as np\n",
    "import statsmodels.api as sm\n",
    "from sklearn.datasets import load_breast_cancer\n",
    "from sklearn.preprocessing import MinMaxScaler\n",
    "from sklearn.feature_selection import SelectKBest"
   ]
  },
  {
   "cell_type": "code",
   "execution_count": 2,
   "id": "8c0c08a0-629a-4e17-8c79-162c595684c2",
   "metadata": {},
   "outputs": [],
   "source": [
    "import pandas as pd\n",
    "breast = load_breast_cancer()\n",
    "y = breast.target\n",
    "X = breast.data.data\n",
    "X = MinMaxScaler().fit(X).transform(X)\n",
    "X = SelectKBest(k=5).fit_transform(X, y)\n",
    "X = sm.add_constant(X)"
   ]
  },
  {
   "cell_type": "code",
   "execution_count": 3,
   "id": "4c1ff2e5-a2cd-4a65-baa4-97d27f5bd1d4",
   "metadata": {},
   "outputs": [],
   "source": [
    "import asyncio\n",
    "from mpyc.runtime import mpc\n",
    "from mpyc import asyncoro\n",
    "import mpyc.gmpy\n",
    "\n",
    "def factorial(x):\n",
    "    res = 1\n",
    "    for i in range(1,x+1):\n",
    "        res = res*i\n",
    "    return res\n",
    "\n",
    "def exp(z):\n",
    "    ftol = 1e-5\n",
    "    exp_val = _exp(mpc.if_else(z < 0, -1, 1) * z, ftol)\n",
    "    return mpc.if_else(z < 0, 1/exp_val, exp_val)\n",
    "\n",
    "@asyncoro.mpc_coro\n",
    "async def _exp(z, ftol):\n",
    "    res = 1\n",
    "    for i in range(1, 50):\n",
    "        term = (z**i)/factorial(i)\n",
    "        res += term\n",
    "        if await mpc.output(term < ftol): break\n",
    "    return res"
   ]
  },
  {
   "cell_type": "code",
   "execution_count": 4,
   "id": "e829be04-311c-4f99-99df-873bd9c25759",
   "metadata": {},
   "outputs": [],
   "source": [
    "def log(x, q=3):\n",
    "    ftol = 1e-5\n",
    "    q = 4\n",
    "    r = 0\n",
    "    for _ in range(20):\n",
    "        s = (x > q)\n",
    "        x /= mpc.if_else(s, q, 1.0)\n",
    "        r += 1 * s\n",
    "    return _log(x, ftol) + r * 1.3862943611198906188\n",
    "\n",
    "@asyncoro.mpc_coro\n",
    "async def _log(x, ftol):\n",
    "    ratio = (x-1)/(x+1)\n",
    "    res = 0\n",
    "    for i in range(1,100,2):\n",
    "        term = 2*(ratio**i)/i\n",
    "        res += term\n",
    "        if await mpc.output(mpc.abs(term) < ftol): break\n",
    "    return res\n"
   ]
  },
  {
   "cell_type": "code",
   "execution_count": 5,
   "id": "6926327e-b403-4e32-a7c8-f05333d519a3",
   "metadata": {},
   "outputs": [],
   "source": [
    "class SecureLogistic:\n",
    "\n",
    "    def __init__(self, y, X):\n",
    "        self.secfloat = mpc.SecFxp(128)\n",
    "        if type(y) is np.ndarray:\n",
    "            y = self.secfloat.array(y)\n",
    "        if type(X) is np.ndarray:\n",
    "            X = self.secfloat.array(X)\n",
    "        self.y = y\n",
    "        self.X = X\n",
    "        self.n_obs = len(y)\n",
    "\n",
    "    def fit(self, maxiter=1):\n",
    "        self.betas = []\n",
    "        beta = self.secfloat.array(np.zeros(self.X.shape[1]))\n",
    "        for i in range(maxiter):\n",
    "            self.betas.append(beta)\n",
    "            score = self.score(beta)\n",
    "            hessian = self.hessian(beta)\n",
    "            beta += self.np_inv(hessian) @ score\n",
    "            print(f\"iter {i} completed\")\n",
    "        self.betas.append(beta)\n",
    "        return beta\n",
    "\n",
    "    def likelihood(self):\n",
    "        pass\n",
    "\n",
    "    def score(self, beta):\n",
    "        Xb = self.X @ beta\n",
    "        exp_Xb = self.apply_exp(-Xb)\n",
    "        self.S = 1/(1+exp_Xb)\n",
    "        return (self.y - self.S) @ self.X / self.n_obs\n",
    "\n",
    "    def hessian(self, beta):\n",
    "        return mpc.np_multiply(self.X.T, self.S * (1 - self.S)) @ self.X / self.n_obs\n",
    "\n",
    "    def apply_exp(self, X):\n",
    "        X = X.copy()\n",
    "        for i in range(len(X)):\n",
    "            mpc.np_update(X, i, exp(X[i]))\n",
    "        return X\n",
    "    \n",
    "    def np_inv(self, A, niter=100):\n",
    "        n = A.shape[0]\n",
    "        X_k = self.secfloat.array(np.eye(n)) / self.norm_1(A)\n",
    "        for k in range(niter):\n",
    "            X_k_next = 2 * X_k - X_k @ A @ X_k     \n",
    "            X_k = X_k_next    \n",
    "        return X_k_next\n",
    "        \n",
    "    def norm_1(self, A):\n",
    "        n = mpc.np_sgn(A) * A\n",
    "        n = mpc.np_sum(n, axis=0)\n",
    "        n = mpc.np_amax(n)\n",
    "        return n"
   ]
  },
  {
   "cell_type": "code",
   "execution_count": 57,
   "id": "6e0e4bb0-3430-4bee-8de7-a001f4e09637",
   "metadata": {},
   "outputs": [],
   "source": [
    "results = {}"
   ]
  },
  {
   "cell_type": "code",
   "execution_count": 48,
   "id": "709a43b5-ff1c-461f-833b-7acd79e24cfd",
   "metadata": {},
   "outputs": [
    {
     "name": "stdout",
     "output_type": "stream",
     "text": [
      "iter 0 completed\n",
      "Warning: Maximum number of iterations has been exceeded.\n",
      "         Current function value: 0.049771\n",
      "         Iterations: 10\n",
      "{0.1: [9.137363910675049, 40393.00379426644, array([ 3.33301965, -2.68917765, -4.85479941, -0.08392921, -2.51032004,\n",
      "       -0.08892826]), array([  53.94821575, -167.46577346, -154.99326594,  189.30769431,\n",
      "       -114.07969193,   47.96164947])]}\n"
     ]
    },
    {
     "name": "stderr",
     "output_type": "stream",
     "text": [
      "/home/bob/.local/lib/python3.10/site-packages/statsmodels/base/model.py:607: ConvergenceWarning: Maximum Likelihood optimization failed to converge. Check mle_retvals\n",
      "  warnings.warn(\"Maximum Likelihood optimization failed to \"\n"
     ]
    },
    {
     "name": "stdout",
     "output_type": "stream",
     "text": [
      "iter 0 completed\n",
      "Warning: Maximum number of iterations has been exceeded.\n",
      "         Current function value: 0.089140\n",
      "         Iterations: 10\n",
      "{0.1: [9.137363910675049, 40393.00379426644, array([ 3.33301965, -2.68917765, -4.85479941, -0.08392921, -2.51032004,\n",
      "       -0.08892826]), array([  53.94821575, -167.46577346, -154.99326594,  189.30769431,\n",
      "       -114.07969193,   47.96164947])], 0.2: [12.574117422103882, 51119.192594746535, array([ 3.3134168 , -0.83637212, -5.1942931 , -5.60936309,  1.62836676,\n",
      "       -0.15270031]), array([ 10.66796301,  21.81207502, -31.3138881 , -29.89428384,\n",
      "       -24.72991191,  12.82704436])]}\n"
     ]
    },
    {
     "name": "stderr",
     "output_type": "stream",
     "text": [
      "/home/bob/.local/lib/python3.10/site-packages/statsmodels/base/model.py:607: ConvergenceWarning: Maximum Likelihood optimization failed to converge. Check mle_retvals\n",
      "  warnings.warn(\"Maximum Likelihood optimization failed to \"\n"
     ]
    },
    {
     "name": "stdout",
     "output_type": "stream",
     "text": [
      "iter 0 completed\n",
      "Warning: Maximum number of iterations has been exceeded.\n",
      "         Current function value: 0.084564\n",
      "         Iterations: 10\n",
      "{0.1: [9.137363910675049, 40393.00379426644, array([ 3.33301965, -2.68917765, -4.85479941, -0.08392921, -2.51032004,\n",
      "       -0.08892826]), array([  53.94821575, -167.46577346, -154.99326594,  189.30769431,\n",
      "       -114.07969193,   47.96164947])], 0.2: [12.574117422103882, 51119.192594746535, array([ 3.3134168 , -0.83637212, -5.1942931 , -5.60936309,  1.62836676,\n",
      "       -0.15270031]), array([ 10.66796301,  21.81207502, -31.3138881 , -29.89428384,\n",
      "       -24.72991191,  12.82704436])], 0.3: [16.34038209915161, 73711.04538610454, array([ 3.40651239,  0.26830328, -2.89736974, -8.75198622,  2.78121065,\n",
      "       -1.17531498]), array([ 11.86226262,  21.28955248, -26.75340843, -25.74450429,\n",
      "       -27.32821538,   7.17890186])]}\n"
     ]
    },
    {
     "name": "stderr",
     "output_type": "stream",
     "text": [
      "/home/bob/.local/lib/python3.10/site-packages/statsmodels/base/model.py:607: ConvergenceWarning: Maximum Likelihood optimization failed to converge. Check mle_retvals\n",
      "  warnings.warn(\"Maximum Likelihood optimization failed to \"\n"
     ]
    },
    {
     "name": "stdout",
     "output_type": "stream",
     "text": [
      "iter 0 completed\n",
      "Warning: Maximum number of iterations has been exceeded.\n",
      "         Current function value: 0.100167\n",
      "         Iterations: 10\n",
      "{0.1: [9.137363910675049, 40393.00379426644, array([ 3.33301965, -2.68917765, -4.85479941, -0.08392921, -2.51032004,\n",
      "       -0.08892826]), array([  53.94821575, -167.46577346, -154.99326594,  189.30769431,\n",
      "       -114.07969193,   47.96164947])], 0.2: [12.574117422103882, 51119.192594746535, array([ 3.3134168 , -0.83637212, -5.1942931 , -5.60936309,  1.62836676,\n",
      "       -0.15270031]), array([ 10.66796301,  21.81207502, -31.3138881 , -29.89428384,\n",
      "       -24.72991191,  12.82704436])], 0.3: [16.34038209915161, 73711.04538610454, array([ 3.40651239,  0.26830328, -2.89736974, -8.75198622,  2.78121065,\n",
      "       -1.17531498]), array([ 11.86226262,  21.28955248, -26.75340843, -25.74450429,\n",
      "       -27.32821538,   7.17890186])], 0.4: [19.99330973625183, 76498.83141762452, array([ 3.27186407,  1.87848317, -3.18484403, -7.01105994, -0.46914062,\n",
      "       -1.22212201]), array([ 11.35457219,  36.07970373, -21.62129832, -53.97017282,\n",
      "       -12.47456917,   2.43587822])]}\n"
     ]
    },
    {
     "name": "stderr",
     "output_type": "stream",
     "text": [
      "/home/bob/.local/lib/python3.10/site-packages/statsmodels/base/model.py:607: ConvergenceWarning: Maximum Likelihood optimization failed to converge. Check mle_retvals\n",
      "  warnings.warn(\"Maximum Likelihood optimization failed to \"\n"
     ]
    },
    {
     "name": "stdout",
     "output_type": "stream",
     "text": [
      "iter 0 completed\n",
      "Warning: Maximum number of iterations has been exceeded.\n",
      "         Current function value: 0.095278\n",
      "         Iterations: 10\n",
      "{0.1: [9.137363910675049, 40393.00379426644, array([ 3.33301965, -2.68917765, -4.85479941, -0.08392921, -2.51032004,\n",
      "       -0.08892826]), array([  53.94821575, -167.46577346, -154.99326594,  189.30769431,\n",
      "       -114.07969193,   47.96164947])], 0.2: [12.574117422103882, 51119.192594746535, array([ 3.3134168 , -0.83637212, -5.1942931 , -5.60936309,  1.62836676,\n",
      "       -0.15270031]), array([ 10.66796301,  21.81207502, -31.3138881 , -29.89428384,\n",
      "       -24.72991191,  12.82704436])], 0.3: [16.34038209915161, 73711.04538610454, array([ 3.40651239,  0.26830328, -2.89736974, -8.75198622,  2.78121065,\n",
      "       -1.17531498]), array([ 11.86226262,  21.28955248, -26.75340843, -25.74450429,\n",
      "       -27.32821538,   7.17890186])], 0.4: [19.99330973625183, 76498.83141762452, array([ 3.27186407,  1.87848317, -3.18484403, -7.01105994, -0.46914062,\n",
      "       -1.22212201]), array([ 11.35457219,  36.07970373, -21.62129832, -53.97017282,\n",
      "       -12.47456917,   2.43587822])], 0.5: [23.92357587814331, 98898.82712398974, array([ 3.28190058e+00, -2.47315485e-03, -2.90366379e+00, -8.65599764e+00,\n",
      "        3.90484672e+00, -1.72319091e+00]), array([ 12.26187341,  45.81251028, -24.19600544, -62.80204781,\n",
      "       -17.09649992,   2.31806407])]}\n"
     ]
    },
    {
     "name": "stderr",
     "output_type": "stream",
     "text": [
      "/home/bob/.local/lib/python3.10/site-packages/statsmodels/base/model.py:607: ConvergenceWarning: Maximum Likelihood optimization failed to converge. Check mle_retvals\n",
      "  warnings.warn(\"Maximum Likelihood optimization failed to \"\n"
     ]
    },
    {
     "name": "stdout",
     "output_type": "stream",
     "text": [
      "iter 0 completed\n",
      "Warning: Maximum number of iterations has been exceeded.\n",
      "         Current function value: 0.085412\n",
      "         Iterations: 10\n",
      "{0.1: [9.137363910675049, 40393.00379426644, array([ 3.33301965, -2.68917765, -4.85479941, -0.08392921, -2.51032004,\n",
      "       -0.08892826]), array([  53.94821575, -167.46577346, -154.99326594,  189.30769431,\n",
      "       -114.07969193,   47.96164947])], 0.2: [12.574117422103882, 51119.192594746535, array([ 3.3134168 , -0.83637212, -5.1942931 , -5.60936309,  1.62836676,\n",
      "       -0.15270031]), array([ 10.66796301,  21.81207502, -31.3138881 , -29.89428384,\n",
      "       -24.72991191,  12.82704436])], 0.3: [16.34038209915161, 73711.04538610454, array([ 3.40651239,  0.26830328, -2.89736974, -8.75198622,  2.78121065,\n",
      "       -1.17531498]), array([ 11.86226262,  21.28955248, -26.75340843, -25.74450429,\n",
      "       -27.32821538,   7.17890186])], 0.4: [19.99330973625183, 76498.83141762452, array([ 3.27186407,  1.87848317, -3.18484403, -7.01105994, -0.46914062,\n",
      "       -1.22212201]), array([ 11.35457219,  36.07970373, -21.62129832, -53.97017282,\n",
      "       -12.47456917,   2.43587822])], 0.5: [23.92357587814331, 98898.82712398974, array([ 3.28190058e+00, -2.47315485e-03, -2.90366379e+00, -8.65599764e+00,\n",
      "        3.90484672e+00, -1.72319091e+00]), array([ 12.26187341,  45.81251028, -24.19600544, -62.80204781,\n",
      "       -17.09649992,   2.31806407])], 0.6: [27.6669921875, 104978.99041071105, array([ 3.15659749,  1.56683115, -3.2341293 , -9.70124161,  4.03227498,\n",
      "       -1.80813612]), array([ 12.69559514,  49.08144186, -28.53557959, -64.40222363,\n",
      "       -19.57213631,   4.07200332])]}\n"
     ]
    },
    {
     "name": "stderr",
     "output_type": "stream",
     "text": [
      "/home/bob/.local/lib/python3.10/site-packages/statsmodels/base/model.py:607: ConvergenceWarning: Maximum Likelihood optimization failed to converge. Check mle_retvals\n",
      "  warnings.warn(\"Maximum Likelihood optimization failed to \"\n"
     ]
    },
    {
     "name": "stdout",
     "output_type": "stream",
     "text": [
      "iter 0 completed\n",
      "Warning: Maximum number of iterations has been exceeded.\n",
      "         Current function value: 0.092245\n",
      "         Iterations: 10\n",
      "{0.1: [9.137363910675049, 40393.00379426644, array([ 3.33301965, -2.68917765, -4.85479941, -0.08392921, -2.51032004,\n",
      "       -0.08892826]), array([  53.94821575, -167.46577346, -154.99326594,  189.30769431,\n",
      "       -114.07969193,   47.96164947])], 0.2: [12.574117422103882, 51119.192594746535, array([ 3.3134168 , -0.83637212, -5.1942931 , -5.60936309,  1.62836676,\n",
      "       -0.15270031]), array([ 10.66796301,  21.81207502, -31.3138881 , -29.89428384,\n",
      "       -24.72991191,  12.82704436])], 0.3: [16.34038209915161, 73711.04538610454, array([ 3.40651239,  0.26830328, -2.89736974, -8.75198622,  2.78121065,\n",
      "       -1.17531498]), array([ 11.86226262,  21.28955248, -26.75340843, -25.74450429,\n",
      "       -27.32821538,   7.17890186])], 0.4: [19.99330973625183, 76498.83141762452, array([ 3.27186407,  1.87848317, -3.18484403, -7.01105994, -0.46914062,\n",
      "       -1.22212201]), array([ 11.35457219,  36.07970373, -21.62129832, -53.97017282,\n",
      "       -12.47456917,   2.43587822])], 0.5: [23.92357587814331, 98898.82712398974, array([ 3.28190058e+00, -2.47315485e-03, -2.90366379e+00, -8.65599764e+00,\n",
      "        3.90484672e+00, -1.72319091e+00]), array([ 12.26187341,  45.81251028, -24.19600544, -62.80204781,\n",
      "       -17.09649992,   2.31806407])], 0.6: [27.6669921875, 104978.99041071105, array([ 3.15659749,  1.56683115, -3.2341293 , -9.70124161,  4.03227498,\n",
      "       -1.80813612]), array([ 12.69559514,  49.08144186, -28.53557959, -64.40222363,\n",
      "       -19.57213631,   4.07200332])], 0.7: [31.27833652496338, 114888.21437954286, array([ 3.13482738,  1.83029583, -3.51700792, -9.29997209,  3.2536779 ,\n",
      "       -1.46311707]), array([ 12.02612053,  37.38152916, -32.05639321, -51.32710546,\n",
      "       -19.83333751,   8.22198854])]}\n"
     ]
    },
    {
     "name": "stderr",
     "output_type": "stream",
     "text": [
      "/home/bob/.local/lib/python3.10/site-packages/statsmodels/base/model.py:607: ConvergenceWarning: Maximum Likelihood optimization failed to converge. Check mle_retvals\n",
      "  warnings.warn(\"Maximum Likelihood optimization failed to \"\n"
     ]
    },
    {
     "name": "stdout",
     "output_type": "stream",
     "text": [
      "iter 0 completed\n",
      "Warning: Maximum number of iterations has been exceeded.\n",
      "         Current function value: 0.096478\n",
      "         Iterations: 10\n",
      "{0.1: [9.137363910675049, 40393.00379426644, array([ 3.33301965, -2.68917765, -4.85479941, -0.08392921, -2.51032004,\n",
      "       -0.08892826]), array([  53.94821575, -167.46577346, -154.99326594,  189.30769431,\n",
      "       -114.07969193,   47.96164947])], 0.2: [12.574117422103882, 51119.192594746535, array([ 3.3134168 , -0.83637212, -5.1942931 , -5.60936309,  1.62836676,\n",
      "       -0.15270031]), array([ 10.66796301,  21.81207502, -31.3138881 , -29.89428384,\n",
      "       -24.72991191,  12.82704436])], 0.3: [16.34038209915161, 73711.04538610454, array([ 3.40651239,  0.26830328, -2.89736974, -8.75198622,  2.78121065,\n",
      "       -1.17531498]), array([ 11.86226262,  21.28955248, -26.75340843, -25.74450429,\n",
      "       -27.32821538,   7.17890186])], 0.4: [19.99330973625183, 76498.83141762452, array([ 3.27186407,  1.87848317, -3.18484403, -7.01105994, -0.46914062,\n",
      "       -1.22212201]), array([ 11.35457219,  36.07970373, -21.62129832, -53.97017282,\n",
      "       -12.47456917,   2.43587822])], 0.5: [23.92357587814331, 98898.82712398974, array([ 3.28190058e+00, -2.47315485e-03, -2.90366379e+00, -8.65599764e+00,\n",
      "        3.90484672e+00, -1.72319091e+00]), array([ 12.26187341,  45.81251028, -24.19600544, -62.80204781,\n",
      "       -17.09649992,   2.31806407])], 0.6: [27.6669921875, 104978.99041071105, array([ 3.15659749,  1.56683115, -3.2341293 , -9.70124161,  4.03227498,\n",
      "       -1.80813612]), array([ 12.69559514,  49.08144186, -28.53557959, -64.40222363,\n",
      "       -19.57213631,   4.07200332])], 0.7: [31.27833652496338, 114888.21437954286, array([ 3.13482738,  1.83029583, -3.51700792, -9.29997209,  3.2536779 ,\n",
      "       -1.46311707]), array([ 12.02612053,  37.38152916, -32.05639321, -51.32710546,\n",
      "       -19.83333751,   8.22198854])], 0.8: [35.03871488571167, 142475.05768298593, array([ 3.2084534 ,  1.82814757, -2.82705138, -8.33607293,  2.19644825,\n",
      "       -2.05147681]), array([ 11.9172802 ,  31.85113365, -26.40520305, -30.64112557,\n",
      "       -33.4528226 ,   4.78285991])]}\n"
     ]
    },
    {
     "name": "stderr",
     "output_type": "stream",
     "text": [
      "/home/bob/.local/lib/python3.10/site-packages/statsmodels/base/model.py:607: ConvergenceWarning: Maximum Likelihood optimization failed to converge. Check mle_retvals\n",
      "  warnings.warn(\"Maximum Likelihood optimization failed to \"\n"
     ]
    },
    {
     "name": "stdout",
     "output_type": "stream",
     "text": [
      "iter 0 completed\n",
      "Warning: Maximum number of iterations has been exceeded.\n",
      "         Current function value: 0.091965\n",
      "         Iterations: 10\n",
      "{0.1: [9.137363910675049, 40393.00379426644, array([ 3.33301965, -2.68917765, -4.85479941, -0.08392921, -2.51032004,\n",
      "       -0.08892826]), array([  53.94821575, -167.46577346, -154.99326594,  189.30769431,\n",
      "       -114.07969193,   47.96164947])], 0.2: [12.574117422103882, 51119.192594746535, array([ 3.3134168 , -0.83637212, -5.1942931 , -5.60936309,  1.62836676,\n",
      "       -0.15270031]), array([ 10.66796301,  21.81207502, -31.3138881 , -29.89428384,\n",
      "       -24.72991191,  12.82704436])], 0.3: [16.34038209915161, 73711.04538610454, array([ 3.40651239,  0.26830328, -2.89736974, -8.75198622,  2.78121065,\n",
      "       -1.17531498]), array([ 11.86226262,  21.28955248, -26.75340843, -25.74450429,\n",
      "       -27.32821538,   7.17890186])], 0.4: [19.99330973625183, 76498.83141762452, array([ 3.27186407,  1.87848317, -3.18484403, -7.01105994, -0.46914062,\n",
      "       -1.22212201]), array([ 11.35457219,  36.07970373, -21.62129832, -53.97017282,\n",
      "       -12.47456917,   2.43587822])], 0.5: [23.92357587814331, 98898.82712398974, array([ 3.28190058e+00, -2.47315485e-03, -2.90366379e+00, -8.65599764e+00,\n",
      "        3.90484672e+00, -1.72319091e+00]), array([ 12.26187341,  45.81251028, -24.19600544, -62.80204781,\n",
      "       -17.09649992,   2.31806407])], 0.6: [27.6669921875, 104978.99041071105, array([ 3.15659749,  1.56683115, -3.2341293 , -9.70124161,  4.03227498,\n",
      "       -1.80813612]), array([ 12.69559514,  49.08144186, -28.53557959, -64.40222363,\n",
      "       -19.57213631,   4.07200332])], 0.7: [31.27833652496338, 114888.21437954286, array([ 3.13482738,  1.83029583, -3.51700792, -9.29997209,  3.2536779 ,\n",
      "       -1.46311707]), array([ 12.02612053,  37.38152916, -32.05639321, -51.32710546,\n",
      "       -19.83333751,   8.22198854])], 0.8: [35.03871488571167, 142475.05768298593, array([ 3.2084534 ,  1.82814757, -2.82705138, -8.33607293,  2.19644825,\n",
      "       -2.05147681]), array([ 11.9172802 ,  31.85113365, -26.40520305, -30.64112557,\n",
      "       -33.4528226 ,   4.78285991])], 0.9: [38.707494258880615, 148564.2368228404, array([ 3.27992613,  1.55522683, -2.30400424, -8.11624963,  2.24702688,\n",
      "       -2.53157602]), array([ 12.73804212,  30.69625618, -22.46362301, -30.66943395,\n",
      "       -34.1194034 ,   2.16438508])]}\n"
     ]
    },
    {
     "name": "stderr",
     "output_type": "stream",
     "text": [
      "/home/bob/.local/lib/python3.10/site-packages/statsmodels/base/model.py:607: ConvergenceWarning: Maximum Likelihood optimization failed to converge. Check mle_retvals\n",
      "  warnings.warn(\"Maximum Likelihood optimization failed to \"\n"
     ]
    },
    {
     "name": "stdout",
     "output_type": "stream",
     "text": [
      "iter 0 completed\n",
      "Warning: Maximum number of iterations has been exceeded.\n",
      "         Current function value: 0.090243\n",
      "         Iterations: 10\n",
      "{0.1: [9.137363910675049, 40393.00379426644, array([ 3.33301965, -2.68917765, -4.85479941, -0.08392921, -2.51032004,\n",
      "       -0.08892826]), array([  53.94821575, -167.46577346, -154.99326594,  189.30769431,\n",
      "       -114.07969193,   47.96164947])], 0.2: [12.574117422103882, 51119.192594746535, array([ 3.3134168 , -0.83637212, -5.1942931 , -5.60936309,  1.62836676,\n",
      "       -0.15270031]), array([ 10.66796301,  21.81207502, -31.3138881 , -29.89428384,\n",
      "       -24.72991191,  12.82704436])], 0.3: [16.34038209915161, 73711.04538610454, array([ 3.40651239,  0.26830328, -2.89736974, -8.75198622,  2.78121065,\n",
      "       -1.17531498]), array([ 11.86226262,  21.28955248, -26.75340843, -25.74450429,\n",
      "       -27.32821538,   7.17890186])], 0.4: [19.99330973625183, 76498.83141762452, array([ 3.27186407,  1.87848317, -3.18484403, -7.01105994, -0.46914062,\n",
      "       -1.22212201]), array([ 11.35457219,  36.07970373, -21.62129832, -53.97017282,\n",
      "       -12.47456917,   2.43587822])], 0.5: [23.92357587814331, 98898.82712398974, array([ 3.28190058e+00, -2.47315485e-03, -2.90366379e+00, -8.65599764e+00,\n",
      "        3.90484672e+00, -1.72319091e+00]), array([ 12.26187341,  45.81251028, -24.19600544, -62.80204781,\n",
      "       -17.09649992,   2.31806407])], 0.6: [27.6669921875, 104978.99041071105, array([ 3.15659749,  1.56683115, -3.2341293 , -9.70124161,  4.03227498,\n",
      "       -1.80813612]), array([ 12.69559514,  49.08144186, -28.53557959, -64.40222363,\n",
      "       -19.57213631,   4.07200332])], 0.7: [31.27833652496338, 114888.21437954286, array([ 3.13482738,  1.83029583, -3.51700792, -9.29997209,  3.2536779 ,\n",
      "       -1.46311707]), array([ 12.02612053,  37.38152916, -32.05639321, -51.32710546,\n",
      "       -19.83333751,   8.22198854])], 0.8: [35.03871488571167, 142475.05768298593, array([ 3.2084534 ,  1.82814757, -2.82705138, -8.33607293,  2.19644825,\n",
      "       -2.05147681]), array([ 11.9172802 ,  31.85113365, -26.40520305, -30.64112557,\n",
      "       -33.4528226 ,   4.78285991])], 0.9: [38.707494258880615, 148564.2368228404, array([ 3.27992613,  1.55522683, -2.30400424, -8.11624963,  2.24702688,\n",
      "       -2.53157602]), array([ 12.73804212,  30.69625618, -22.46362301, -30.66943395,\n",
      "       -34.1194034 ,   2.16438508])], 1.0: [42.669694662094116, 157032.26375361937, array([ 3.23189369,  1.86679745, -2.30831746, -6.06117058, -0.33964256,\n",
      "       -2.34139615]), array([ 12.62489721,  31.59967576, -23.3454875 , -22.51742512,\n",
      "       -44.56424792,   3.78705687])]}\n"
     ]
    },
    {
     "name": "stderr",
     "output_type": "stream",
     "text": [
      "/home/bob/.local/lib/python3.10/site-packages/statsmodels/base/model.py:607: ConvergenceWarning: Maximum Likelihood optimization failed to converge. Check mle_retvals\n",
      "  warnings.warn(\"Maximum Likelihood optimization failed to \"\n"
     ]
    }
   ],
   "source": [
    "for x in range(1, 11):\n",
    "    rng = np.random.default_rng(42)\n",
    "    idx = rng.integers(len(y), size=int(len(y) * x/10))\n",
    "    X_sample = X[idx]\n",
    "    y_sample = y[idx]\n",
    "    t0 = time.time()\n",
    "    model = SecureLogistic(y_sample, X_sample)\n",
    "    params_smpc = await mpc.output(model.fit(maxiter=1))\n",
    "    t1 = time.time()\n",
    "    params_global = sm.Logit(y_sample, X_sample).fit(maxiter=10).params\n",
    "    t2 = time.time()\n",
    "    time_smpc = t1 - t0\n",
    "    time_global = (t2 - t1)/10\n",
    "    results[x/10] = [time_smpc, time_smpc/time_global, params_smpc, params_global]\n",
    "    print(results)"
   ]
  },
  {
   "cell_type": "code",
   "execution_count": 50,
   "id": "fc70de12-156b-4add-bf4c-8f5418eb9695",
   "metadata": {},
   "outputs": [
    {
     "data": {
      "image/png": "[encoded data removed]",
      "text/plain": [
       "<Figure size 640x480 with 2 Axes>"
      ]
     },
     "metadata": {},
     "output_type": "display_data"
    }
   ],
   "source": [
    "import matplotlib.pyplot as plt\n",
    "import numpy as np\n",
    "\n",
    "\n",
    "# Create some mock data\n",
    "ks = [x/10 for x in range(1,11)]\n",
    "\n",
    "data1 = [results[k][0] for k in ks]\n",
    "data2 = [results[k][1] for k in ks]\n",
    "\n",
    "fig, ax1 = plt.subplots()\n",
    "\n",
    "\n",
    "color = 'tab:red'\n",
    "ax1.set_title(\"Performance of Logit with MpyC in respect to global model for the Breast dataset\", fontsize=10)\n",
    "ax1.set_xlabel('sample size')\n",
    "ax1.set_ylabel('time (s)', color=color)\n",
    "ax1.plot(ks, data1, \"o--\", color=color)\n",
    "ax1.tick_params(axis='y', labelcolor=color)\n",
    "ax1.set_xticks(ks)\n",
    "ax1.set_yticks(list(range(10, 45, 10)))\n",
    "\n",
    "\n",
    "ax2 = ax1.twinx()  # instantiate a second Axes that shares the same x-axis\n",
    "\n",
    "color = 'tab:blue'\n",
    "ax2.set_ylabel('time ratio', color=color)  # we already handled the x-label with ax1\n",
    "ax2.plot(ks, data2, \"o--\", color=color)\n",
    "ax2.tick_params(axis='y', labelcolor=color)\n",
    "\n",
    "fig.tight_layout()  # otherwise the right y-label is slightly clipped\n",
    "plt.savefig(\"performance_smpc.png\", dpi=300)\n",
    "plt.show()"
   ]
  },
  {
   "cell_type": "code",
   "execution_count": 33,
   "id": "83bde912-958c-4cc4-b59c-28dfe693fc39",
   "metadata": {},
   "outputs": [
    {
     "name": "stdout",
     "output_type": "stream",
     "text": [
      "iter 0 completed\n",
      "iter 1 completed\n",
      "iter 2 completed\n",
      "iter 3 completed\n",
      "iter 4 completed\n",
      "iter 5 completed\n",
      "iter 6 completed\n",
      "iter 7 completed\n",
      "iter 8 completed\n",
      "iter 9 completed\n",
      "iter 10 completed\n",
      "iter 11 completed\n",
      "iter 12 completed\n",
      "iter 13 completed\n",
      "iter 14 completed\n",
      "Optimization terminated successfully.\n",
      "         Current function value: 0.109447\n",
      "         Iterations 10\n"
     ]
    }
   ],
   "source": [
    "model = SecureLogistic(y, X)\n",
    "params_smpc = await mpc.output(model.fit(maxiter=15))\n",
    "beta_history = [(await mpc.output(x)) for x in model.betas]\n",
    "params_global = sm.Logit(y, X).fit(maxiter=15).params"
   ]
  },
  {
   "cell_type": "code",
   "execution_count": 37,
   "id": "961a72a6-ab73-4378-b09e-cadc42f4a6b7",
   "metadata": {},
   "outputs": [
    {
     "name": "stderr",
     "output_type": "stream",
     "text": [
      "/tmp/ipykernel_6474/4080796033.py:10: UserWarning: FixedFormatter should only be used together with FixedLocator\n",
      "  plt.gca().set_yticklabels([f'{x:.0%}' for x in plt.gca().get_yticks()])\n"
     ]
    },
    {
     "data": {
      "image/png": "[encoded data removed]",
      "text/plain": [
       "<Figure size 640x480 with 1 Axes>"
      ]
     },
     "metadata": {},
     "output_type": "display_data"
    }
   ],
   "source": [
    "import matplotlib.pyplot as plt\n",
    "import numpy as np\n",
    "\n",
    "diffs = [sum(np.abs((x - params_global) / params_global)) / len(params_global) for x in beta_history]\n",
    "\n",
    "plt.plot(range(len(diffs)), diffs, \"o--\")\n",
    "plt.title(\"SMPC Logit model\")\n",
    "plt.xlabel(\"epoch\")\n",
    "plt.ylabel(\"average relative distance to true params\")\n",
    "plt.gca().set_yticklabels([f'{x:.0%}' for x in plt.gca().get_yticks()]) \n",
    "plt.savefig(f\"Logit_SMPC_convergence\", dpi=300)\n",
    "plt.show()"
   ]
  },
  {
   "cell_type": "code",
   "execution_count": null,
   "id": "22c34e24-93e8-4cf4-bdff-f39ec95fc144",
   "metadata": {},
   "outputs": [],
   "source": []
  }
 ],
 "metadata": {
  "kernelspec": {
   "display_name": "Python 3 (ipykernel)",
   "language": "python",
   "name": "python3"
  },
  "language_info": {
   "codemirror_mode": {
    "name": "ipython",
    "version": 3
   },
   "file_extension": ".py",
   "mimetype": "text/x-python",
   "name": "python",
   "nbconvert_exporter": "python",
   "pygments_lexer": "ipython3",
   "version": "3.10.12"
  }
 },
 "nbformat": 4,
 "nbformat_minor": 5
}
