{
 "cells": [
  {
   "cell_type": "code",
   "execution_count": 75,
   "id": "19f062e1-a327-4cba-bf2a-4070585718ff",
   "metadata": {},
   "outputs": [],
   "source": [
    "import asyncio\n",
    "from mpyc.runtime import mpc\n",
    "from mpyc import asyncoro\n",
    "import mpyc\n",
    "import mpyc.gmpy\n",
    "import numpy as np\n",
    "import statsmodels.api as sm\n",
    "from sklearn.preprocessing import MinMaxScaler, StandardScaler"
   ]
  },
  {
   "cell_type": "code",
   "execution_count": 76,
   "id": "8c0c08a0-629a-4e17-8c79-162c595684c2",
   "metadata": {},
   "outputs": [],
   "source": [
    "import pandas as pd\n",
    "iris = sm.datasets.get_rdataset(\"iris\")\n",
    "y = iris.data['Species']\n",
    "X = iris.data.drop(columns=['Species'])\n",
    "X = sm.add_constant(X)\n",
    "X = X.to_numpy(dtype=np.float64)\n",
    "y = pd.get_dummies(y, drop_first=True)[\"virginica\"].to_numpy(dtype=np.float64)"
   ]
  },
  {
   "cell_type": "code",
   "execution_count": 77,
   "id": "4c1ff2e5-a2cd-4a65-baa4-97d27f5bd1d4",
   "metadata": {},
   "outputs": [],
   "source": [
    "import asyncio\n",
    "from mpyc.runtime import mpc\n",
    "from mpyc import asyncoro\n",
    "import mpyc.gmpy\n",
    "\n",
    "def factorial(x):\n",
    "    res = 1\n",
    "    for i in range(1,x+1):\n",
    "        res = res*i\n",
    "    return res\n",
    "\n",
    "def exp(z):\n",
    "    ftol = 1e-5\n",
    "    exp_val = _exp(mpc.if_else(z < 0, -1, 1) * z, ftol)\n",
    "    return mpc.if_else(z < 0, 1/exp_val, exp_val)\n",
    "\n",
    "@asyncoro.mpc_coro\n",
    "async def _exp(z, ftol):\n",
    "    res = 1\n",
    "    i = 1\n",
    "    while True:\n",
    "        term = (z**i)/factorial(i)\n",
    "        res += term\n",
    "        if await mpc.output(term < ftol): break\n",
    "        i += 1\n",
    "    return res"
   ]
  },
  {
   "cell_type": "code",
   "execution_count": 78,
   "id": "e829be04-311c-4f99-99df-873bd9c25759",
   "metadata": {},
   "outputs": [],
   "source": [
    "def log(x, q=3):\n",
    "    ftol = 1e-5\n",
    "    q = 4\n",
    "    r = 0\n",
    "    for _ in range(20):\n",
    "        s = (x > q)\n",
    "        x /= mpc.if_else(s, q, 1.0)\n",
    "        r += 1 * s\n",
    "    return _log(x, ftol) + r * 1.3862943611198906188\n",
    "\n",
    "@asyncoro.mpc_coro\n",
    "async def _log(x, ftol):\n",
    "    ratio = (x-1)/(x+1)\n",
    "    res = 0\n",
    "    for i in range(1,100,2):\n",
    "        term = 2*(ratio**i)/i\n",
    "        res += term\n",
    "        if await mpc.output(mpc.abs(term) < ftol): break\n",
    "    return res\n"
   ]
  },
  {
   "cell_type": "code",
   "execution_count": 108,
   "id": "6926327e-b403-4e32-a7c8-f05333d519a3",
   "metadata": {},
   "outputs": [],
   "source": [
    "class SecurePoissonReg:\n",
    "\n",
    "    def __init__(self, y, X):\n",
    "        self.secfloat = mpc.SecFxp(128)\n",
    "        if type(y) is np.ndarray:\n",
    "            y = self.secfloat.array(y)\n",
    "        if type(X) is np.ndarray:\n",
    "            X = self.secfloat.array(X)\n",
    "        self.y = y\n",
    "        self.X = X\n",
    "        self.n_obs = len(y)\n",
    "\n",
    "    @asyncoro.mpc_coro\n",
    "    async def fit(self, maxiter=1):\n",
    "        beta = self.secfloat.array(np.zeros(self.X.shape[1]))\n",
    "        for i in range(maxiter):\n",
    "            score = self.score(beta)\n",
    "            hessian = self.hessian(beta)\n",
    "            beta += self.np_inv(hessian) @ score\n",
    "            print(f\"iter {i} completed: {await mpc.output(beta)}\")\n",
    "        return beta\n",
    "\n",
    "    def likelihood(self):\n",
    "        pass\n",
    "\n",
    "    def score(self, beta):\n",
    "        Xb = self.X @ beta\n",
    "        self.S = self.apply_exp(Xb)\n",
    "        return (self.y - self.S) @ self.X / self.n_obs\n",
    "\n",
    "    def hessian(self, beta):\n",
    "        return mpc.np_multiply(self.X.T, self.S) @ self.X / self.n_obs\n",
    "\n",
    "    def apply_exp(self, X):\n",
    "        X = X.copy()\n",
    "        for i in range(len(X)):\n",
    "            mpc.np_update(X, i, exp(X[i]))\n",
    "        return X\n",
    "    \n",
    "    def np_inv(self, A, niter=100):\n",
    "        n = A.shape[0]\n",
    "        X_k = self.secfloat.array(np.eye(n)) / self.norm_1(A)\n",
    "        for k in range(niter):\n",
    "            X_k_next = 2 * X_k - X_k @ A @ X_k     \n",
    "            X_k = X_k_next    \n",
    "        return X_k_next\n",
    "        \n",
    "    def norm_1(self, A):\n",
    "        n = mpc.np_sgn(A) * A\n",
    "        n = mpc.np_sum(n, axis=0)\n",
    "        n = mpc.np_amax(n)\n",
    "        return n"
   ]
  },
  {
   "cell_type": "code",
   "execution_count": 109,
   "id": "709a43b5-ff1c-461f-833b-7acd79e24cfd",
   "metadata": {},
   "outputs": [
    {
     "name": "stdout",
     "output_type": "stream",
     "text": [
      "iter 0 completed: [-1.69528186 -0.04587608  0.20276839  0.00398791  0.55177932]\n",
      "iter 1 completed: [-3.20934563 -0.12067269  0.30583192  0.18057823  0.88895736]\n",
      "iter 2 completed: [-3.62438922 -0.26308894  0.09178759  0.48997542  1.03494321]\n",
      "iter 3 completed: [-3.43254437 -0.47695683 -0.2659405   0.8477602   1.19067416]\n",
      "iter 4 completed: [-3.36282657 -0.63695567 -0.45246954  1.07538864  1.31730339]\n",
      "iter 5 completed: [-3.37492314 -0.67003569 -0.47652455  1.11814613  1.34415541]\n",
      "iter 6 completed: [-3.3758207  -0.67096913 -0.47704604  1.11935514  1.34491814]\n",
      "iter 7 completed: [-3.37582169 -0.67096987 -0.47704641  1.11935612  1.34491876]\n",
      "iter 8 completed: [-3.37582169 -0.67096987 -0.47704641  1.11935612  1.34491876]\n"
     ]
    },
    {
     "data": {
      "text/plain": [
       "array([-3.37582169, -0.67096987, -0.47704641,  1.11935612,  1.34491876])"
      ]
     },
     "execution_count": 109,
     "metadata": {},
     "output_type": "execute_result"
    }
   ],
   "source": [
    "model = SecurePoissonReg(y, X)\n",
    "await mpc.output(model.fit(maxiter=9))"
   ]
  },
  {
   "cell_type": "code",
   "execution_count": 113,
   "id": "59b38660-2226-47ca-b1c6-9c558491aad2",
   "metadata": {},
   "outputs": [
    {
     "name": "stdout",
     "output_type": "stream",
     "text": [
      "Optimization terminated successfully.\n",
      "         Current function value: 0.425146\n",
      "         Iterations 8\n"
     ]
    },
    {
     "data": {
      "text/plain": [
       "array([-3.37582145, -0.67096978, -0.47704626,  1.11935597,  1.34491856])"
      ]
     },
     "execution_count": 113,
     "metadata": {},
     "output_type": "execute_result"
    }
   ],
   "source": [
    "sm.Poisson(y, X).fit().params"
   ]
  },
  {
   "cell_type": "code",
   "execution_count": null,
   "id": "fef40507-9e62-47f8-b02f-f8b9acc44918",
   "metadata": {},
   "outputs": [],
   "source": []
  },
  {
   "cell_type": "code",
   "execution_count": null,
   "id": "79ce5a94-8a4f-411c-919b-37679272eb63",
   "metadata": {},
   "outputs": [],
   "source": []
  }
 ],
 "metadata": {
  "kernelspec": {
   "display_name": "Python 3 (ipykernel)",
   "language": "python",
   "name": "python3"
  },
  "language_info": {
   "codemirror_mode": {
    "name": "ipython",
    "version": 3
   },
   "file_extension": ".py",
   "mimetype": "text/x-python",
   "name": "python",
   "nbconvert_exporter": "python",
   "pygments_lexer": "ipython3",
   "version": "3.10.12"
  }
 },
 "nbformat": 4,
 "nbformat_minor": 5
}
