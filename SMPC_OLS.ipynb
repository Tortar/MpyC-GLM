{
 "cells": [
  {
   "cell_type": "code",
   "execution_count": 262,
   "id": "19f062e1-a327-4cba-bf2a-4070585718ff",
   "metadata": {},
   "outputs": [],
   "source": [
    "import asyncio\n",
    "from mpyc.runtime import mpc\n",
    "from mpyc import asyncoro\n",
    "import mpyc\n",
    "import mpyc.gmpy\n",
    "import numpy as np"
   ]
  },
  {
   "cell_type": "code",
   "execution_count": 252,
   "id": "356cbaee-1976-4a77-9dee-e61b6cdded09",
   "metadata": {},
   "outputs": [],
   "source": [
    "class SecureOLS:\n",
    "\n",
    "    def __init__(self, y, X):\n",
    "        self.secfloat = mpc.SecFxp(256)\n",
    "        if type(y) is np.ndarray:\n",
    "            y = self.secfloat.array(y)\n",
    "        if type(X) is np.ndarray:\n",
    "            X = self.secfloat.array(X)\n",
    "        self.y = y\n",
    "        self.X = X\n",
    "\n",
    "    def fit(self):\n",
    "        XXT = self.X.T @ self.X\n",
    "        XTy = self.X.T @ self.y\n",
    "        max_XXT = mpc.np_amax(XXT)\n",
    "        return self.np_inv(XXT/max_XXT) @ XTy / max_XXT\n",
    "\n",
    "    def np_inv(self, A, niter=100):\n",
    "        n = A.shape[0]\n",
    "        X_k = self.secfloat.array(np.eye(n)) / self.norm_1(A)\n",
    "        for k in range(niter):\n",
    "            X_k_next = 2 * X_k - X_k @ A @ X_k     \n",
    "            X_k = X_k_next    \n",
    "        return X_k_next\n",
    "        \n",
    "    def norm_1(self, A):\n",
    "        n = mpc.np_sgn(A) * A\n",
    "        n = mpc.np_sum(n, axis=0)\n",
    "        n = mpc.np_amax(n)\n",
    "        return n"
   ]
  },
  {
   "cell_type": "code",
   "execution_count": 253,
   "id": "424444c2-c066-4fc2-8be3-a1c66ef94dec",
   "metadata": {},
   "outputs": [],
   "source": [
    "X = np.array([[1.1, 2.453, 2.4], [3.4, 0.56, 33.2]])\n",
    "y = np.array([4.5, 1.2])\n",
    "model = SecureOLS(y, X)"
   ]
  },
  {
   "cell_type": "code",
   "execution_count": 254,
   "id": "6d578237-68d3-4f2a-a4ad-b0ba98064354",
   "metadata": {},
   "outputs": [
    {
     "data": {
      "text/plain": [
       "array([ 0.57129163,  1.62703281, -0.04980512])"
      ]
     },
     "execution_count": 254,
     "metadata": {},
     "output_type": "execute_result"
    }
   ],
   "source": [
    "await mpc.output(model.fit())"
   ]
  },
  {
   "cell_type": "code",
   "execution_count": 255,
   "id": "4cf1cb7b-6a5d-4381-a31f-96d578109bdb",
   "metadata": {},
   "outputs": [
    {
     "data": {
      "text/plain": [
       "array([ 0.57129163,  1.62703281, -0.04980512])"
      ]
     },
     "execution_count": 255,
     "metadata": {},
     "output_type": "execute_result"
    }
   ],
   "source": [
    "import statsmodels.api as sm\n",
    "\n",
    "sm.OLS(y, X).fit().params"
   ]
  },
  {
   "cell_type": "code",
   "execution_count": 256,
   "id": "8c0c08a0-629a-4e17-8c79-162c595684c2",
   "metadata": {},
   "outputs": [],
   "source": [
    "import pandas as pd\n",
    "iris = sm.datasets.get_rdataset(\"iris\")\n",
    "y = iris.data['Species']\n",
    "X = iris.data.drop(columns=['Species'])\n",
    "X = sm.add_constant(X)\n",
    "X = X.to_numpy(dtype=np.float64)\n",
    "y = pd.get_dummies(y, drop_first=True)[\"virginica\"].to_numpy(dtype=np.float64)"
   ]
  },
  {
   "cell_type": "code",
   "execution_count": 257,
   "id": "e528846d-56b4-4643-a583-5f1893ca25e7",
   "metadata": {},
   "outputs": [
    {
     "data": {
      "text/plain": [
       "array([-0.69528186, -0.04587608,  0.20276839,  0.00398791,  0.55177932])"
      ]
     },
     "execution_count": 257,
     "metadata": {},
     "output_type": "execute_result"
    }
   ],
   "source": [
    "await mpc.output(SecureOLS(y, X).fit())"
   ]
  },
  {
   "cell_type": "code",
   "execution_count": 258,
   "id": "a37db149-7181-4994-b84a-b2c273364342",
   "metadata": {},
   "outputs": [
    {
     "data": {
      "text/plain": [
       "array([-0.69528186, -0.04587608,  0.20276839,  0.00398791,  0.55177932])"
      ]
     },
     "execution_count": 258,
     "metadata": {},
     "output_type": "execute_result"
    }
   ],
   "source": [
    "sm.OLS(y, X).fit().params"
   ]
  },
  {
   "cell_type": "code",
   "execution_count": 259,
   "id": "4e103ee3-7f2b-4510-a70c-ee3e7e2129ba",
   "metadata": {},
   "outputs": [],
   "source": [
    "affairs = sm.datasets.get_rdataset('Affairs', 'AER')\n",
    "y = affairs.data['affairs'].to_numpy(dtype=np.float64)\n",
    "X = affairs.data.drop(columns=['affairs'])\n",
    "X = sm.add_constant(X)\n",
    "X = pd.get_dummies(X, drop_first=True).to_numpy(dtype=np.float64)"
   ]
  },
  {
   "cell_type": "code",
   "execution_count": 260,
   "id": "f78ca363-d960-4a33-895e-a493f42168db",
   "metadata": {},
   "outputs": [
    {
     "data": {
      "text/plain": [
       "array([ 5.87201014, -0.05097628,  0.16947232, -0.47761363, -0.01374903,\n",
       "        0.10491597, -0.71187692,  0.05408587, -0.14262446])"
      ]
     },
     "execution_count": 260,
     "metadata": {},
     "output_type": "execute_result"
    }
   ],
   "source": [
    "await mpc.output(SecureOLS(y, X).fit())"
   ]
  },
  {
   "cell_type": "code",
   "execution_count": 261,
   "id": "b6b1fef2-5034-4bbd-ae74-68a3bc12df55",
   "metadata": {},
   "outputs": [
    {
     "data": {
      "text/plain": [
       "array([ 5.87201014, -0.05097628,  0.16947232, -0.47761363, -0.01374903,\n",
       "        0.10491597, -0.71187692,  0.05408587, -0.14262446])"
      ]
     },
     "execution_count": 261,
     "metadata": {},
     "output_type": "execute_result"
    }
   ],
   "source": [
    "sm.OLS(y, X).fit().params"
   ]
  },
  {
   "cell_type": "code",
   "execution_count": null,
   "id": "6926327e-b403-4e32-a7c8-f05333d519a3",
   "metadata": {},
   "outputs": [],
   "source": []
  }
 ],
 "metadata": {
  "kernelspec": {
   "display_name": "Python 3 (ipykernel)",
   "language": "python",
   "name": "python3"
  },
  "language_info": {
   "codemirror_mode": {
    "name": "ipython",
    "version": 3
   },
   "file_extension": ".py",
   "mimetype": "text/x-python",
   "name": "python",
   "nbconvert_exporter": "python",
   "pygments_lexer": "ipython3",
   "version": "3.10.12"
  }
 },
 "nbformat": 4,
 "nbformat_minor": 5
}
